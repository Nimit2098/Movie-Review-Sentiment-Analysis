{
 "cells": [
  {
   "cell_type": "code",
   "execution_count": 20,
   "metadata": {},
   "outputs": [],
   "source": [
    "import tweepy as tw\n",
    "import pandas as pd\n",
    "import numpy as np\n",
    "import json\n",
    "import string\n",
    "from textblob import TextBlob\n",
    "import re\n",
    "import collections\n",
    "from nltk.corpus import stopwords\n",
    "from nltk.stem import WordNetLemmatizer\n",
    "from nltk.tokenize import WordPunctTokenizer"
   ]
  },
  {
   "cell_type": "code",
   "execution_count": 21,
   "metadata": {},
   "outputs": [],
   "source": [
    "df = pd.read_csv('tweets.csv')"
   ]
  },
  {
   "cell_type": "code",
   "execution_count": 22,
   "metadata": {},
   "outputs": [
    {
     "data": {
      "text/html": [
       "<div>\n",
       "<style scoped>\n",
       "    .dataframe tbody tr th:only-of-type {\n",
       "        vertical-align: middle;\n",
       "    }\n",
       "\n",
       "    .dataframe tbody tr th {\n",
       "        vertical-align: top;\n",
       "    }\n",
       "\n",
       "    .dataframe thead th {\n",
       "        text-align: right;\n",
       "    }\n",
       "</style>\n",
       "<table border=\"1\" class=\"dataframe\">\n",
       "  <thead>\n",
       "    <tr style=\"text-align: right;\">\n",
       "      <th></th>\n",
       "      <th>Unnamed: 0</th>\n",
       "      <th>User_name</th>\n",
       "      <th>tweets</th>\n",
       "      <th>letters_preprocess</th>\n",
       "      <th>Polarity</th>\n",
       "      <th>Label</th>\n",
       "    </tr>\n",
       "  </thead>\n",
       "  <tbody>\n",
       "    <tr>\n",
       "      <th>0</th>\n",
       "      <td>0</td>\n",
       "      <td>Drewboy14</td>\n",
       "      <td>RT @esquire: #BlackPanther made him an overnig...</td>\n",
       "      <td>139</td>\n",
       "      <td>0.03125</td>\n",
       "      <td>1</td>\n",
       "    </tr>\n",
       "    <tr>\n",
       "      <th>1</th>\n",
       "      <td>1</td>\n",
       "      <td>Demarcus_Red</td>\n",
       "      <td>RT @getFANDOM: #WakandaForever blew everything...</td>\n",
       "      <td>105</td>\n",
       "      <td>0.00000</td>\n",
       "      <td>4</td>\n",
       "    </tr>\n",
       "    <tr>\n",
       "      <th>2</th>\n",
       "      <td>2</td>\n",
       "      <td>iBE_ONLYME</td>\n",
       "      <td>RT @heroichollywood: We NEED Shuri &amp;amp; Peter...</td>\n",
       "      <td>100</td>\n",
       "      <td>0.00000</td>\n",
       "      <td>4</td>\n",
       "    </tr>\n",
       "    <tr>\n",
       "      <th>3</th>\n",
       "      <td>3</td>\n",
       "      <td>hiroshi00279644</td>\n",
       "      <td>RT @heroichollywood: Retweet if you’re hyped f...</td>\n",
       "      <td>100</td>\n",
       "      <td>0.00000</td>\n",
       "      <td>4</td>\n",
       "    </tr>\n",
       "    <tr>\n",
       "      <th>4</th>\n",
       "      <td>4</td>\n",
       "      <td>YPinedodelarosa</td>\n",
       "      <td>RT @marvel_shots: ‘We Know What You Whisper’ \\...</td>\n",
       "      <td>85</td>\n",
       "      <td>0.00000</td>\n",
       "      <td>4</td>\n",
       "    </tr>\n",
       "  </tbody>\n",
       "</table>\n",
       "</div>"
      ],
      "text/plain": [
       "   Unnamed: 0        User_name  \\\n",
       "0           0        Drewboy14   \n",
       "1           1     Demarcus_Red   \n",
       "2           2       iBE_ONLYME   \n",
       "3           3  hiroshi00279644   \n",
       "4           4  YPinedodelarosa   \n",
       "\n",
       "                                              tweets  letters_preprocess  \\\n",
       "0  RT @esquire: #BlackPanther made him an overnig...                 139   \n",
       "1  RT @getFANDOM: #WakandaForever blew everything...                 105   \n",
       "2  RT @heroichollywood: We NEED Shuri &amp; Peter...                 100   \n",
       "3  RT @heroichollywood: Retweet if you’re hyped f...                 100   \n",
       "4  RT @marvel_shots: ‘We Know What You Whisper’ \\...                  85   \n",
       "\n",
       "   Polarity  Label  \n",
       "0   0.03125      1  \n",
       "1   0.00000      4  \n",
       "2   0.00000      4  \n",
       "3   0.00000      4  \n",
       "4   0.00000      4  "
      ]
     },
     "execution_count": 22,
     "metadata": {},
     "output_type": "execute_result"
    }
   ],
   "source": [
    "df.head()"
   ]
  },
  {
   "cell_type": "code",
   "execution_count": 23,
   "metadata": {},
   "outputs": [
    {
     "data": {
      "text/html": [
       "<div>\n",
       "<style scoped>\n",
       "    .dataframe tbody tr th:only-of-type {\n",
       "        vertical-align: middle;\n",
       "    }\n",
       "\n",
       "    .dataframe tbody tr th {\n",
       "        vertical-align: top;\n",
       "    }\n",
       "\n",
       "    .dataframe thead th {\n",
       "        text-align: right;\n",
       "    }\n",
       "</style>\n",
       "<table border=\"1\" class=\"dataframe\">\n",
       "  <thead>\n",
       "    <tr style=\"text-align: right;\">\n",
       "      <th></th>\n",
       "      <th>User_name</th>\n",
       "      <th>tweets</th>\n",
       "      <th>letters_preprocess</th>\n",
       "      <th>Polarity</th>\n",
       "      <th>Label</th>\n",
       "    </tr>\n",
       "  </thead>\n",
       "  <tbody>\n",
       "    <tr>\n",
       "      <th>0</th>\n",
       "      <td>Drewboy14</td>\n",
       "      <td>RT @esquire: #BlackPanther made him an overnig...</td>\n",
       "      <td>139</td>\n",
       "      <td>0.03125</td>\n",
       "      <td>1</td>\n",
       "    </tr>\n",
       "    <tr>\n",
       "      <th>1</th>\n",
       "      <td>Demarcus_Red</td>\n",
       "      <td>RT @getFANDOM: #WakandaForever blew everything...</td>\n",
       "      <td>105</td>\n",
       "      <td>0.00000</td>\n",
       "      <td>4</td>\n",
       "    </tr>\n",
       "    <tr>\n",
       "      <th>2</th>\n",
       "      <td>iBE_ONLYME</td>\n",
       "      <td>RT @heroichollywood: We NEED Shuri &amp;amp; Peter...</td>\n",
       "      <td>100</td>\n",
       "      <td>0.00000</td>\n",
       "      <td>4</td>\n",
       "    </tr>\n",
       "    <tr>\n",
       "      <th>3</th>\n",
       "      <td>hiroshi00279644</td>\n",
       "      <td>RT @heroichollywood: Retweet if you’re hyped f...</td>\n",
       "      <td>100</td>\n",
       "      <td>0.00000</td>\n",
       "      <td>4</td>\n",
       "    </tr>\n",
       "    <tr>\n",
       "      <th>4</th>\n",
       "      <td>YPinedodelarosa</td>\n",
       "      <td>RT @marvel_shots: ‘We Know What You Whisper’ \\...</td>\n",
       "      <td>85</td>\n",
       "      <td>0.00000</td>\n",
       "      <td>4</td>\n",
       "    </tr>\n",
       "  </tbody>\n",
       "</table>\n",
       "</div>"
      ],
      "text/plain": [
       "         User_name                                             tweets  \\\n",
       "0        Drewboy14  RT @esquire: #BlackPanther made him an overnig...   \n",
       "1     Demarcus_Red  RT @getFANDOM: #WakandaForever blew everything...   \n",
       "2       iBE_ONLYME  RT @heroichollywood: We NEED Shuri &amp; Peter...   \n",
       "3  hiroshi00279644  RT @heroichollywood: Retweet if you’re hyped f...   \n",
       "4  YPinedodelarosa  RT @marvel_shots: ‘We Know What You Whisper’ \\...   \n",
       "\n",
       "   letters_preprocess  Polarity  Label  \n",
       "0                 139   0.03125      1  \n",
       "1                 105   0.00000      4  \n",
       "2                 100   0.00000      4  \n",
       "3                 100   0.00000      4  \n",
       "4                  85   0.00000      4  "
      ]
     },
     "execution_count": 23,
     "metadata": {},
     "output_type": "execute_result"
    }
   ],
   "source": [
    "df.drop(columns=['Unnamed: 0'], inplace=True)\n",
    "df.head()"
   ]
  },
  {
   "cell_type": "code",
   "execution_count": 24,
   "metadata": {},
   "outputs": [],
   "source": [
    "def count_letter(text):\n",
    "    letter = len(text)\n",
    "    return letter\n",
    "\n",
    "def clean_txt(text):\n",
    "    text = re.sub('(@[\\w\\S]+)','',text)  #removes handle from message\n",
    "    text = re.sub('(http://\\S+)', '',text)  #removes link from message\n",
    "    text = re.sub(r'#', '', text) #removes hashtags\n",
    "    text = re.sub(r'RT[\\s]+', '', text) #removes RT\n",
    "    return text\n",
    "\n",
    "def process_txt(text):\n",
    "    no_punc = [char for char in text if char not in string.punctuation]  #Removing the punctuations from the message\n",
    "    no_punc = ''.join(no_punc)\n",
    "    clean_words = [word.lower() for word in no_punc.split() if word.lower() not in stopwords.words('english')]  #Removing the stopwords from the message\n",
    "    lemmet = WordNetLemmatizer()\n",
    "    lemmet_words = [lemmet.lemmatize(word1) for word1 in clean_words] #Lemmeting the words in the message\n",
    "    for i in lemmet_words:\n",
    "        unique_words.add(i)\n",
    "        words_list.append(i)\n",
    "    return (\" \".join(lemmet_words)).strip()"
   ]
  },
  {
   "cell_type": "code",
   "execution_count": 25,
   "metadata": {},
   "outputs": [],
   "source": [
    "unique_words = set()\n",
    "words_list = []\n",
    "df['text'] = df['tweets'].apply(clean_txt)"
   ]
  },
  {
   "cell_type": "code",
   "execution_count": 26,
   "metadata": {},
   "outputs": [],
   "source": [
    "df['letter_postprocess'] = df['text'].apply(count_letter)"
   ]
  },
  {
   "cell_type": "code",
   "execution_count": 27,
   "metadata": {},
   "outputs": [
    {
     "data": {
      "text/html": [
       "<div>\n",
       "<style scoped>\n",
       "    .dataframe tbody tr th:only-of-type {\n",
       "        vertical-align: middle;\n",
       "    }\n",
       "\n",
       "    .dataframe tbody tr th {\n",
       "        vertical-align: top;\n",
       "    }\n",
       "\n",
       "    .dataframe thead th {\n",
       "        text-align: right;\n",
       "    }\n",
       "</style>\n",
       "<table border=\"1\" class=\"dataframe\">\n",
       "  <thead>\n",
       "    <tr style=\"text-align: right;\">\n",
       "      <th></th>\n",
       "      <th>User_name</th>\n",
       "      <th>tweets</th>\n",
       "      <th>letters_preprocess</th>\n",
       "      <th>Polarity</th>\n",
       "      <th>Label</th>\n",
       "      <th>text</th>\n",
       "      <th>letter_postprocess</th>\n",
       "    </tr>\n",
       "  </thead>\n",
       "  <tbody>\n",
       "    <tr>\n",
       "      <th>0</th>\n",
       "      <td>Drewboy14</td>\n",
       "      <td>RT @esquire: #BlackPanther made him an overnig...</td>\n",
       "      <td>139</td>\n",
       "      <td>0.03125</td>\n",
       "      <td>1</td>\n",
       "      <td>BlackPanther made him an overnight celebrity. ...</td>\n",
       "      <td>124</td>\n",
       "    </tr>\n",
       "    <tr>\n",
       "      <th>1</th>\n",
       "      <td>Demarcus_Red</td>\n",
       "      <td>RT @getFANDOM: #WakandaForever blew everything...</td>\n",
       "      <td>105</td>\n",
       "      <td>0.00000</td>\n",
       "      <td>4</td>\n",
       "      <td>WakandaForever blew everything else out of the...</td>\n",
       "      <td>89</td>\n",
       "    </tr>\n",
       "    <tr>\n",
       "      <th>2</th>\n",
       "      <td>iBE_ONLYME</td>\n",
       "      <td>RT @heroichollywood: We NEED Shuri &amp;amp; Peter...</td>\n",
       "      <td>100</td>\n",
       "      <td>0.00000</td>\n",
       "      <td>4</td>\n",
       "      <td>We NEED Shuri &amp;amp; Peter to meet soon. Wakand...</td>\n",
       "      <td>78</td>\n",
       "    </tr>\n",
       "    <tr>\n",
       "      <th>3</th>\n",
       "      <td>hiroshi00279644</td>\n",
       "      <td>RT @heroichollywood: Retweet if you’re hyped f...</td>\n",
       "      <td>100</td>\n",
       "      <td>0.00000</td>\n",
       "      <td>4</td>\n",
       "      <td>Retweet if you’re hyped for Iron Heart! Wakand...</td>\n",
       "      <td>78</td>\n",
       "    </tr>\n",
       "    <tr>\n",
       "      <th>4</th>\n",
       "      <td>YPinedodelarosa</td>\n",
       "      <td>RT @marvel_shots: ‘We Know What You Whisper’ \\...</td>\n",
       "      <td>85</td>\n",
       "      <td>0.00000</td>\n",
       "      <td>4</td>\n",
       "      <td>‘We Know What You Whisper’ \\nWakandaForever ht...</td>\n",
       "      <td>66</td>\n",
       "    </tr>\n",
       "  </tbody>\n",
       "</table>\n",
       "</div>"
      ],
      "text/plain": [
       "         User_name                                             tweets  \\\n",
       "0        Drewboy14  RT @esquire: #BlackPanther made him an overnig...   \n",
       "1     Demarcus_Red  RT @getFANDOM: #WakandaForever blew everything...   \n",
       "2       iBE_ONLYME  RT @heroichollywood: We NEED Shuri &amp; Peter...   \n",
       "3  hiroshi00279644  RT @heroichollywood: Retweet if you’re hyped f...   \n",
       "4  YPinedodelarosa  RT @marvel_shots: ‘We Know What You Whisper’ \\...   \n",
       "\n",
       "   letters_preprocess  Polarity  Label  \\\n",
       "0                 139   0.03125      1   \n",
       "1                 105   0.00000      4   \n",
       "2                 100   0.00000      4   \n",
       "3                 100   0.00000      4   \n",
       "4                  85   0.00000      4   \n",
       "\n",
       "                                                text  letter_postprocess  \n",
       "0  BlackPanther made him an overnight celebrity. ...                 124  \n",
       "1  WakandaForever blew everything else out of the...                  89  \n",
       "2  We NEED Shuri &amp; Peter to meet soon. Wakand...                  78  \n",
       "3  Retweet if you’re hyped for Iron Heart! Wakand...                  78  \n",
       "4  ‘We Know What You Whisper’ \\nWakandaForever ht...                  66  "
      ]
     },
     "execution_count": 27,
     "metadata": {},
     "output_type": "execute_result"
    }
   ],
   "source": [
    "df.head()"
   ]
  },
  {
   "cell_type": "code",
   "execution_count": 28,
   "metadata": {},
   "outputs": [],
   "source": [
    "def getPolarity(text):\n",
    "    return TextBlob(text).sentiment.polarity"
   ]
  },
  {
   "cell_type": "code",
   "execution_count": 29,
   "metadata": {},
   "outputs": [],
   "source": [
    "df['Polarity'] = df['text'].apply(getPolarity)"
   ]
  },
  {
   "cell_type": "code",
   "execution_count": 30,
   "metadata": {},
   "outputs": [
    {
     "data": {
      "text/html": [
       "<div>\n",
       "<style scoped>\n",
       "    .dataframe tbody tr th:only-of-type {\n",
       "        vertical-align: middle;\n",
       "    }\n",
       "\n",
       "    .dataframe tbody tr th {\n",
       "        vertical-align: top;\n",
       "    }\n",
       "\n",
       "    .dataframe thead th {\n",
       "        text-align: right;\n",
       "    }\n",
       "</style>\n",
       "<table border=\"1\" class=\"dataframe\">\n",
       "  <thead>\n",
       "    <tr style=\"text-align: right;\">\n",
       "      <th></th>\n",
       "      <th>User_name</th>\n",
       "      <th>tweets</th>\n",
       "      <th>letters_preprocess</th>\n",
       "      <th>Polarity</th>\n",
       "      <th>Label</th>\n",
       "      <th>text</th>\n",
       "      <th>letter_postprocess</th>\n",
       "    </tr>\n",
       "  </thead>\n",
       "  <tbody>\n",
       "    <tr>\n",
       "      <th>0</th>\n",
       "      <td>Drewboy14</td>\n",
       "      <td>RT @esquire: #BlackPanther made him an overnig...</td>\n",
       "      <td>139</td>\n",
       "      <td>0.03125</td>\n",
       "      <td>1</td>\n",
       "      <td>BlackPanther made him an overnight celebrity. ...</td>\n",
       "      <td>124</td>\n",
       "    </tr>\n",
       "    <tr>\n",
       "      <th>1</th>\n",
       "      <td>Demarcus_Red</td>\n",
       "      <td>RT @getFANDOM: #WakandaForever blew everything...</td>\n",
       "      <td>105</td>\n",
       "      <td>0.00000</td>\n",
       "      <td>4</td>\n",
       "      <td>WakandaForever blew everything else out of the...</td>\n",
       "      <td>89</td>\n",
       "    </tr>\n",
       "    <tr>\n",
       "      <th>2</th>\n",
       "      <td>iBE_ONLYME</td>\n",
       "      <td>RT @heroichollywood: We NEED Shuri &amp;amp; Peter...</td>\n",
       "      <td>100</td>\n",
       "      <td>0.00000</td>\n",
       "      <td>4</td>\n",
       "      <td>We NEED Shuri &amp;amp; Peter to meet soon. Wakand...</td>\n",
       "      <td>78</td>\n",
       "    </tr>\n",
       "    <tr>\n",
       "      <th>3</th>\n",
       "      <td>hiroshi00279644</td>\n",
       "      <td>RT @heroichollywood: Retweet if you’re hyped f...</td>\n",
       "      <td>100</td>\n",
       "      <td>0.00000</td>\n",
       "      <td>4</td>\n",
       "      <td>Retweet if you’re hyped for Iron Heart! Wakand...</td>\n",
       "      <td>78</td>\n",
       "    </tr>\n",
       "    <tr>\n",
       "      <th>4</th>\n",
       "      <td>YPinedodelarosa</td>\n",
       "      <td>RT @marvel_shots: ‘We Know What You Whisper’ \\...</td>\n",
       "      <td>85</td>\n",
       "      <td>0.00000</td>\n",
       "      <td>4</td>\n",
       "      <td>‘We Know What You Whisper’ \\nWakandaForever ht...</td>\n",
       "      <td>66</td>\n",
       "    </tr>\n",
       "  </tbody>\n",
       "</table>\n",
       "</div>"
      ],
      "text/plain": [
       "         User_name                                             tweets  \\\n",
       "0        Drewboy14  RT @esquire: #BlackPanther made him an overnig...   \n",
       "1     Demarcus_Red  RT @getFANDOM: #WakandaForever blew everything...   \n",
       "2       iBE_ONLYME  RT @heroichollywood: We NEED Shuri &amp; Peter...   \n",
       "3  hiroshi00279644  RT @heroichollywood: Retweet if you’re hyped f...   \n",
       "4  YPinedodelarosa  RT @marvel_shots: ‘We Know What You Whisper’ \\...   \n",
       "\n",
       "   letters_preprocess  Polarity  Label  \\\n",
       "0                 139   0.03125      1   \n",
       "1                 105   0.00000      4   \n",
       "2                 100   0.00000      4   \n",
       "3                 100   0.00000      4   \n",
       "4                  85   0.00000      4   \n",
       "\n",
       "                                                text  letter_postprocess  \n",
       "0  BlackPanther made him an overnight celebrity. ...                 124  \n",
       "1  WakandaForever blew everything else out of the...                  89  \n",
       "2  We NEED Shuri &amp; Peter to meet soon. Wakand...                  78  \n",
       "3  Retweet if you’re hyped for Iron Heart! Wakand...                  78  \n",
       "4  ‘We Know What You Whisper’ \\nWakandaForever ht...                  66  "
      ]
     },
     "execution_count": 30,
     "metadata": {},
     "output_type": "execute_result"
    }
   ],
   "source": [
    "df.head()"
   ]
  },
  {
   "cell_type": "code",
   "execution_count": 31,
   "metadata": {},
   "outputs": [
    {
     "data": {
      "text/plain": [
       "4    4739\n",
       "1    3596\n",
       "0    1665\n",
       "Name: Label, dtype: int64"
      ]
     },
     "execution_count": 31,
     "metadata": {},
     "output_type": "execute_result"
    }
   ],
   "source": [
    "df['Label'].value_counts()"
   ]
  },
  {
   "cell_type": "code",
   "execution_count": 32,
   "metadata": {},
   "outputs": [],
   "source": [
    "df1 = df[df[\"Label\"] != 4]"
   ]
  },
  {
   "cell_type": "code",
   "execution_count": 33,
   "metadata": {},
   "outputs": [
    {
     "name": "stderr",
     "output_type": "stream",
     "text": [
      "C:\\Users\\nimit\\AppData\\Local\\Temp\\ipykernel_4468\\1317610720.py:1: SettingWithCopyWarning: \n",
      "A value is trying to be set on a copy of a slice from a DataFrame.\n",
      "Try using .loc[row_indexer,col_indexer] = value instead\n",
      "\n",
      "See the caveats in the documentation: https://pandas.pydata.org/pandas-docs/stable/user_guide/indexing.html#returning-a-view-versus-a-copy\n",
      "  df1['processed_text'] = df1['text'].apply(process_txt)\n"
     ]
    }
   ],
   "source": [
    "df1['processed_text'] = df1['text'].apply(process_txt)"
   ]
  },
  {
   "cell_type": "code",
   "execution_count": 34,
   "metadata": {},
   "outputs": [],
   "source": [
    "reviews = np.array(df1['processed_text'])\n",
    "sentiments = np.array(df1['Label'])"
   ]
  },
  {
   "cell_type": "code",
   "execution_count": 35,
   "metadata": {},
   "outputs": [],
   "source": [
    "# build train and test datasets\n",
    "test_reviews = reviews[:int(round(df1.shape[0]*0.03,0))]\n",
    "test_sentiments = sentiments[:int(round(df1.shape[0]*0.03,0))]\n",
    "train_reviews = reviews[int(round(df1.shape[0]*0.03,0)):]\n",
    "train_sentiments = sentiments[int(round(df1.shape[0]*0.03,0)):]"
   ]
  },
  {
   "cell_type": "code",
   "execution_count": 39,
   "metadata": {},
   "outputs": [],
   "source": [
    "from sklearn.feature_extraction.text import CountVectorizer, TfidfVectorizer\n",
    "\n",
    "# build BOW features on train reviews\n",
    "cv = CountVectorizer(binary=False, min_df=0.0, max_df=1.0, ngram_range=(1,2))\n",
    "cv_train_features = cv.fit_transform(train_reviews)\n",
    "\n",
    "# build TFIDF features on train reviews\n",
    "tv = TfidfVectorizer(use_idf=True, min_df=0.0, max_df=1.0, ngram_range=(1,2),sublinear_tf=True)\n",
    "tv_train_features = tv.fit_transform(train_reviews)"
   ]
  },
  {
   "cell_type": "code",
   "execution_count": 40,
   "metadata": {},
   "outputs": [],
   "source": [
    "# transform test reviews into features\n",
    "cv_test_features = cv.transform(test_reviews)\n",
    "tv_test_features = tv.transform(test_reviews)"
   ]
  },
  {
   "cell_type": "code",
   "execution_count": 41,
   "metadata": {},
   "outputs": [
    {
     "name": "stdout",
     "output_type": "stream",
     "text": [
      "BOW model:> Train features shape: (5103, 21669)  Test features shape: (158, 21669)\n",
      "TFIDF model:> Train features shape: (5103, 21669)  Test features shape: (158, 21669)\n"
     ]
    }
   ],
   "source": [
    "print('BOW model:> Train features shape:', cv_train_features.shape, ' Test features shape:', cv_test_features.shape)\n",
    "print('TFIDF model:> Train features shape:', tv_train_features.shape, ' Test features shape:', tv_test_features.shape)"
   ]
  },
  {
   "cell_type": "code",
   "execution_count": 42,
   "metadata": {},
   "outputs": [],
   "source": [
    "from sklearn.linear_model import SGDClassifier, LogisticRegression\n",
    "\n",
    "lr = LogisticRegression(penalty='l2', max_iter=100, C=1)\n",
    "svm = SGDClassifier(loss='hinge', max_iter=100)"
   ]
  },
  {
   "cell_type": "markdown",
   "metadata": {},
   "source": [
    "## Logistic Regression using BOW"
   ]
  },
  {
   "cell_type": "code",
   "execution_count": 43,
   "metadata": {},
   "outputs": [],
   "source": [
    "# Logistic Regression model on BOW features\n",
    "lr.fit(cv_train_features,train_sentiments)\n",
    "# predict using model\n",
    "predictions = lr.predict(cv_test_features) "
   ]
  },
  {
   "cell_type": "code",
   "execution_count": 44,
   "metadata": {},
   "outputs": [
    {
     "name": "stdout",
     "output_type": "stream",
     "text": [
      "Accuracy score: 94.0 %\n"
     ]
    }
   ],
   "source": [
    "score = lr.score(cv_test_features,test_sentiments)\n",
    "print(\"Accuracy score:\",np.round(score,2)*100,\"%\")"
   ]
  },
  {
   "cell_type": "code",
   "execution_count": 45,
   "metadata": {},
   "outputs": [
    {
     "name": "stdout",
     "output_type": "stream",
     "text": [
      "Confusion matrix:\n"
     ]
    },
    {
     "data": {
      "text/plain": [
       "Text(0.5, 1.0, 'Accuracy Score: 94.0%')"
      ]
     },
     "execution_count": 45,
     "metadata": {},
     "output_type": "execute_result"
    },
    {
     "data": {
      "image/png": "[encoded data removed]",
      "text/plain": [
       "<Figure size 500x500 with 2 Axes>"
      ]
     },
     "metadata": {},
     "output_type": "display_data"
    }
   ],
   "source": [
    "import matplotlib.pyplot as plt\n",
    "import seaborn as sns\n",
    "from sklearn import metrics\n",
    "cm = metrics.confusion_matrix(test_sentiments, predictions)\n",
    "plt.figure(figsize=(5,5))\n",
    "sns.heatmap(cm, annot=True, fmt=\".3f\", linewidths=.5, square = True)\n",
    "plt.ylabel('Actual label')\n",
    "plt.xlabel('Predicted label')\n",
    "print(\"Confusion matrix:\")\n",
    "all_sample_title = 'Accuracy Score: {0}%'.format(np.round(score,2)*100)\n",
    "plt.title(all_sample_title, size = 12)"
   ]
  },
  {
   "cell_type": "code",
   "execution_count": 46,
   "metadata": {},
   "outputs": [
    {
     "name": "stdout",
     "output_type": "stream",
     "text": [
      "Classification report\n",
      "\n",
      "              precision    recall  f1-score   support\n",
      "\n",
      "           0       1.00      0.79      0.88        48\n",
      "           1       0.92      1.00      0.96       110\n",
      "\n",
      "    accuracy                           0.94       158\n",
      "   macro avg       0.96      0.90      0.92       158\n",
      "weighted avg       0.94      0.94      0.93       158\n",
      "\n"
     ]
    }
   ],
   "source": [
    "from sklearn.metrics import classification_report\n",
    "print(\"Classification report\\n\")\n",
    "print(classification_report(test_sentiments, predictions))"
   ]
  },
  {
   "cell_type": "code",
   "execution_count": 47,
   "metadata": {},
   "outputs": [
    {
     "name": "stdout",
     "output_type": "stream",
     "text": [
      "Accuracy:  93.67% \n",
      "Precision: 94.20% \n",
      "Recall:    93.67% \n",
      "F1 Score:  93.44% \n"
     ]
    }
   ],
   "source": [
    "from sklearn import metrics\n",
    "print('Accuracy:  {:2.2%} '.format(metrics.accuracy_score(test_sentiments, predictions)))\n",
    "print('Precision: {:2.2%} '.format(metrics.precision_score(test_sentiments, predictions, average='weighted')))\n",
    "print('Recall:    {:2.2%} '.format(metrics.recall_score(test_sentiments, predictions, average='weighted')))\n",
    "print('F1 Score:  {:2.2%} '.format(metrics.f1_score(test_sentiments, predictions, average='weighted')))  "
   ]
  },
  {
   "cell_type": "markdown",
   "metadata": {},
   "source": [
    "## Logistic Regression using TFIDF"
   ]
  },
  {
   "cell_type": "code",
   "execution_count": 48,
   "metadata": {},
   "outputs": [],
   "source": [
    "# Logistic Regression model on BOW features\n",
    "lr.fit(tv_train_features,train_sentiments)\n",
    "# predict using model\n",
    "predictions = lr.predict(tv_test_features)"
   ]
  },
  {
   "cell_type": "code",
   "execution_count": 49,
   "metadata": {},
   "outputs": [
    {
     "name": "stdout",
     "output_type": "stream",
     "text": [
      "Accuracy score: 92.0 %\n"
     ]
    }
   ],
   "source": [
    "score = lr.score(tv_test_features,test_sentiments)\n",
    "print(\"Accuracy score:\",np.round(score,2)*100,\"%\")"
   ]
  },
  {
   "cell_type": "code",
   "execution_count": 50,
   "metadata": {},
   "outputs": [
    {
     "name": "stdout",
     "output_type": "stream",
     "text": [
      "Confusion matrix:\n"
     ]
    },
    {
     "data": {
      "text/plain": [
       "Text(0.5, 1.0, 'Accuracy Score: 92.0%')"
      ]
     },
     "execution_count": 50,
     "metadata": {},
     "output_type": "execute_result"
    },
    {
     "data": {
      "image/png": "[encoded data removed]",
      "text/plain": [
       "<Figure size 500x500 with 2 Axes>"
      ]
     },
     "metadata": {},
     "output_type": "display_data"
    }
   ],
   "source": [
    "import matplotlib.pyplot as plt\n",
    "import seaborn as sns\n",
    "from sklearn import metrics\n",
    "cm = metrics.confusion_matrix(test_sentiments, predictions)\n",
    "plt.figure(figsize=(5,5))\n",
    "sns.heatmap(cm, annot=True, fmt=\".3f\", linewidths=.5, square = True)\n",
    "plt.ylabel('Actual label')\n",
    "plt.xlabel('Predicted label')\n",
    "print(\"Confusion matrix:\")\n",
    "all_sample_title = 'Accuracy Score: {0}%'.format(np.round(score,2)*100)\n",
    "plt.title(all_sample_title, size = 12)"
   ]
  },
  {
   "cell_type": "code",
   "execution_count": 51,
   "metadata": {},
   "outputs": [
    {
     "name": "stdout",
     "output_type": "stream",
     "text": [
      "Classification report\n",
      "\n",
      "              precision    recall  f1-score   support\n",
      "\n",
      "           0       1.00      0.75      0.86        48\n",
      "           1       0.90      1.00      0.95       110\n",
      "\n",
      "    accuracy                           0.92       158\n",
      "   macro avg       0.95      0.88      0.90       158\n",
      "weighted avg       0.93      0.92      0.92       158\n",
      "\n"
     ]
    }
   ],
   "source": [
    "print(\"Classification report\\n\")\n",
    "print(classification_report(test_sentiments, predictions))"
   ]
  },
  {
   "cell_type": "code",
   "execution_count": 52,
   "metadata": {},
   "outputs": [
    {
     "name": "stdout",
     "output_type": "stream",
     "text": [
      "Accuracy:  92.41% \n",
      "Precision: 93.15% \n",
      "Recall:    92.41% \n",
      "F1 Score:  92.06% \n"
     ]
    }
   ],
   "source": [
    "print('Accuracy:  {:2.2%} '.format(metrics.accuracy_score(test_sentiments, predictions)))\n",
    "print('Precision: {:2.2%} '.format(metrics.precision_score(test_sentiments, predictions, average='weighted')))\n",
    "print('Recall:    {:2.2%} '.format(metrics.recall_score(test_sentiments, predictions, average='weighted')))\n",
    "print('F1 Score:  {:2.2%} '.format(metrics.f1_score(test_sentiments, predictions, average='weighted')))   "
   ]
  },
  {
   "cell_type": "markdown",
   "metadata": {},
   "source": [
    "## SVM model using BOW"
   ]
  },
  {
   "cell_type": "code",
   "execution_count": 53,
   "metadata": {},
   "outputs": [],
   "source": [
    "# SVM model on BOW features\n",
    "svm.fit(cv_train_features,train_sentiments)\n",
    "# predict using model\n",
    "predictions = svm.predict(cv_test_features)"
   ]
  },
  {
   "cell_type": "code",
   "execution_count": 54,
   "metadata": {},
   "outputs": [
    {
     "name": "stdout",
     "output_type": "stream",
     "text": [
      "Accuracy score: 94.0 %\n"
     ]
    }
   ],
   "source": [
    "score = svm.score(cv_test_features,test_sentiments)\n",
    "print(\"Accuracy score:\",np.round(score,2)*100,\"%\")"
   ]
  },
  {
   "cell_type": "code",
   "execution_count": 55,
   "metadata": {},
   "outputs": [
    {
     "name": "stdout",
     "output_type": "stream",
     "text": [
      "Confusion matrix:\n"
     ]
    },
    {
     "data": {
      "text/plain": [
       "Text(0.5, 1.0, 'Accuracy Score: 94.0%')"
      ]
     },
     "execution_count": 55,
     "metadata": {},
     "output_type": "execute_result"
    },
    {
     "data": {
      "image/png": "[encoded data removed]",
      "text/plain": [
       "<Figure size 500x500 with 2 Axes>"
      ]
     },
     "metadata": {},
     "output_type": "display_data"
    }
   ],
   "source": [
    "cm = metrics.confusion_matrix(test_sentiments, predictions)\n",
    "plt.figure(figsize=(5,5))\n",
    "sns.heatmap(cm, annot=True, fmt=\".3f\", linewidths=.5, square = True)\n",
    "plt.ylabel('Actual label')\n",
    "plt.xlabel('Predicted label')\n",
    "print(\"Confusion matrix:\")\n",
    "all_sample_title = 'Accuracy Score: {0}%'.format(np.round(score,2)*100)\n",
    "plt.title(all_sample_title, size = 12)"
   ]
  },
  {
   "cell_type": "code",
   "execution_count": 56,
   "metadata": {},
   "outputs": [
    {
     "name": "stdout",
     "output_type": "stream",
     "text": [
      "Classification report\n",
      "\n",
      "              precision    recall  f1-score   support\n",
      "\n",
      "           0       1.00      0.81      0.90        48\n",
      "           1       0.92      1.00      0.96       110\n",
      "\n",
      "    accuracy                           0.94       158\n",
      "   macro avg       0.96      0.91      0.93       158\n",
      "weighted avg       0.95      0.94      0.94       158\n",
      "\n"
     ]
    }
   ],
   "source": [
    "print(\"Classification report\\n\")\n",
    "print(classification_report(test_sentiments, predictions))"
   ]
  },
  {
   "cell_type": "code",
   "execution_count": 57,
   "metadata": {},
   "outputs": [
    {
     "name": "stdout",
     "output_type": "stream",
     "text": [
      "Accuracy:  94.30% \n",
      "Precision: 94.73% \n",
      "Recall:    94.30% \n",
      "F1 Score:  94.12% \n"
     ]
    }
   ],
   "source": [
    "print('Accuracy:  {:2.2%} '.format(metrics.accuracy_score(test_sentiments, predictions)))\n",
    "print('Precision: {:2.2%} '.format(metrics.precision_score(test_sentiments, predictions, average='weighted')))\n",
    "print('Recall:    {:2.2%} '.format(metrics.recall_score(test_sentiments, predictions, average='weighted')))\n",
    "print('F1 Score:  {:2.2%} '.format(metrics.f1_score(test_sentiments, predictions, average='weighted')))"
   ]
  },
  {
   "cell_type": "markdown",
   "metadata": {},
   "source": [
    "## SVM model using TFIDF"
   ]
  },
  {
   "cell_type": "code",
   "execution_count": 58,
   "metadata": {},
   "outputs": [],
   "source": [
    "# SVM model on TF-IDF features\n",
    "svm.fit(tv_train_features,train_sentiments)\n",
    "# predict using model\n",
    "predictions = svm.predict(tv_test_features) "
   ]
  },
  {
   "cell_type": "code",
   "execution_count": 59,
   "metadata": {},
   "outputs": [
    {
     "name": "stdout",
     "output_type": "stream",
     "text": [
      "Accuracy score: 87.0 %\n"
     ]
    }
   ],
   "source": [
    "score = svm.score(cv_test_features,test_sentiments)\n",
    "print(\"Accuracy score:\",np.round(score,2)*100,\"%\")"
   ]
  },
  {
   "cell_type": "code",
   "execution_count": 60,
   "metadata": {},
   "outputs": [
    {
     "name": "stdout",
     "output_type": "stream",
     "text": [
      "Confusion matrix:\n"
     ]
    },
    {
     "data": {
      "text/plain": [
       "Text(0.5, 1.0, 'Accuracy Score: 87.0%')"
      ]
     },
     "execution_count": 60,
     "metadata": {},
     "output_type": "execute_result"
    },
    {
     "data": {
      "image/png": "[encoded data removed]",
      "text/plain": [
       "<Figure size 500x500 with 2 Axes>"
      ]
     },
     "metadata": {},
     "output_type": "display_data"
    }
   ],
   "source": [
    "cm = metrics.confusion_matrix(test_sentiments, predictions)\n",
    "plt.figure(figsize=(5,5))\n",
    "sns.heatmap(cm, annot=True, fmt=\".3f\", linewidths=.5, square = True)\n",
    "plt.ylabel('Actual label')\n",
    "plt.xlabel('Predicted label')\n",
    "print(\"Confusion matrix:\")\n",
    "all_sample_title = 'Accuracy Score: {0}%'.format(np.round(score,2)*100)\n",
    "plt.title(all_sample_title, size = 12)"
   ]
  },
  {
   "cell_type": "code",
   "execution_count": 61,
   "metadata": {},
   "outputs": [
    {
     "name": "stdout",
     "output_type": "stream",
     "text": [
      "Classification report\n",
      "\n",
      "              precision    recall  f1-score   support\n",
      "\n",
      "           0       1.00      0.79      0.88        48\n",
      "           1       0.92      1.00      0.96       110\n",
      "\n",
      "    accuracy                           0.94       158\n",
      "   macro avg       0.96      0.90      0.92       158\n",
      "weighted avg       0.94      0.94      0.93       158\n",
      "\n"
     ]
    }
   ],
   "source": [
    "print(\"Classification report\\n\")\n",
    "print(classification_report(test_sentiments, predictions))"
   ]
  },
  {
   "cell_type": "code",
   "execution_count": 62,
   "metadata": {},
   "outputs": [
    {
     "name": "stdout",
     "output_type": "stream",
     "text": [
      "Accuracy:  93.67% \n",
      "Precision: 94.20% \n",
      "Recall:    93.67% \n",
      "F1 Score:  93.44% \n"
     ]
    }
   ],
   "source": [
    "print('Accuracy:  {:2.2%} '.format(metrics.accuracy_score(test_sentiments, predictions)))\n",
    "print('Precision: {:2.2%} '.format(metrics.precision_score(test_sentiments, predictions, average='weighted')))\n",
    "print('Recall:    {:2.2%} '.format(metrics.recall_score(test_sentiments, predictions, average='weighted')))\n",
    "print('F1 Score:  {:2.2%} '.format(metrics.f1_score(test_sentiments, predictions, average='weighted')))    "
   ]
  }
 ],
 "metadata": {
  "kernelspec": {
   "display_name": "Python 3.10.6 ('SentimentAnalysis')",
   "language": "python",
   "name": "python3"
  },
  "language_info": {
   "codemirror_mode": {
    "name": "ipython",
    "version": 3
   },
   "file_extension": ".py",
   "mimetype": "text/x-python",
   "name": "python",
   "nbconvert_exporter": "python",
   "pygments_lexer": "ipython3",
   "version": "3.10.6"
  },
  "orig_nbformat": 4,
  "vscode": {
   "interpreter": {
    "hash": "24e9768d611fc246120c41f7b551bb3154ed9f1414c8efc879092c8d24419cb4"
   }
  }
 },
 "nbformat": 4,
 "nbformat_minor": 2
}

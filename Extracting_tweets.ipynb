{
 "cells": [
  {
   "cell_type": "code",
   "execution_count": 1,
   "metadata": {},
   "outputs": [],
   "source": [
    "import tweepy as tw\n",
    "import pandas as pd\n",
    "from textblob import TextBlob"
   ]
  },
  {
   "cell_type": "code",
   "execution_count": 2,
   "metadata": {},
   "outputs": [],
   "source": [
    "keys = pd.read_csv('keys.csv')"
   ]
  },
  {
   "cell_type": "code",
   "execution_count": 3,
   "metadata": {},
   "outputs": [],
   "source": [
    "#Twitter API cred\n",
    "consumerkey = keys['key'][0]\n",
    "consumerSecret = keys['key'][1]\n",
    "accessToken = keys['key'][3]\n",
    "accessTokenSecret = keys['key'][4]"
   ]
  },
  {
   "cell_type": "code",
   "execution_count": 4,
   "metadata": {},
   "outputs": [],
   "source": [
    "#Authentication Object\n",
    "authenticate = tw.OAuth1UserHandler(consumerkey, consumerSecret)\n",
    "\n",
    "#Set Access\n",
    "authenticate.set_access_token(accessToken,accessTokenSecret)\n",
    "\n",
    "#API Object\n",
    "api = tw.API(authenticate, wait_on_rate_limit=True)"
   ]
  },
  {
   "cell_type": "code",
   "execution_count": 5,
   "metadata": {},
   "outputs": [],
   "source": [
    "search_words = [\"WakandaForever\"]\n",
    "limit = 10000"
   ]
  },
  {
   "cell_type": "code",
   "execution_count": 6,
   "metadata": {},
   "outputs": [
    {
     "name": "stderr",
     "output_type": "stream",
     "text": [
      "Rate limit reached. Sleeping for: 360\n"
     ]
    }
   ],
   "source": [
    "columns = ['User_name','tweets']\n",
    "data = []\n",
    "\n",
    "# Collect tweets\n",
    "tweets = tw.Cursor(api.search_tweets,\n",
    "              q=search_words, count=100, tweet_mode='extended', lang = 'en').items(limit)\n",
    "\n",
    "for tweet in tweets:\n",
    "    data.append([tweet.user.screen_name, tweet.full_text])\n",
    "\n",
    "df = pd.DataFrame(data, columns=columns)"
   ]
  },
  {
   "cell_type": "code",
   "execution_count": 7,
   "metadata": {},
   "outputs": [
    {
     "data": {
      "text/html": [
       "<div>\n",
       "<style scoped>\n",
       "    .dataframe tbody tr th:only-of-type {\n",
       "        vertical-align: middle;\n",
       "    }\n",
       "\n",
       "    .dataframe tbody tr th {\n",
       "        vertical-align: top;\n",
       "    }\n",
       "\n",
       "    .dataframe thead th {\n",
       "        text-align: right;\n",
       "    }\n",
       "</style>\n",
       "<table border=\"1\" class=\"dataframe\">\n",
       "  <thead>\n",
       "    <tr style=\"text-align: right;\">\n",
       "      <th></th>\n",
       "      <th>User_name</th>\n",
       "      <th>tweets</th>\n",
       "    </tr>\n",
       "  </thead>\n",
       "  <tbody>\n",
       "    <tr>\n",
       "      <th>0</th>\n",
       "      <td>Drewboy14</td>\n",
       "      <td>RT @esquire: #BlackPanther made him an overnig...</td>\n",
       "    </tr>\n",
       "    <tr>\n",
       "      <th>1</th>\n",
       "      <td>Demarcus_Red</td>\n",
       "      <td>RT @getFANDOM: #WakandaForever blew everything...</td>\n",
       "    </tr>\n",
       "    <tr>\n",
       "      <th>2</th>\n",
       "      <td>iBE_ONLYME</td>\n",
       "      <td>RT @heroichollywood: We NEED Shuri &amp;amp; Peter...</td>\n",
       "    </tr>\n",
       "    <tr>\n",
       "      <th>3</th>\n",
       "      <td>hiroshi00279644</td>\n",
       "      <td>RT @heroichollywood: Retweet if you’re hyped f...</td>\n",
       "    </tr>\n",
       "    <tr>\n",
       "      <th>4</th>\n",
       "      <td>YPinedodelarosa</td>\n",
       "      <td>RT @marvel_shots: ‘We Know What You Whisper’ \\...</td>\n",
       "    </tr>\n",
       "  </tbody>\n",
       "</table>\n",
       "</div>"
      ],
      "text/plain": [
       "         User_name                                             tweets\n",
       "0        Drewboy14  RT @esquire: #BlackPanther made him an overnig...\n",
       "1     Demarcus_Red  RT @getFANDOM: #WakandaForever blew everything...\n",
       "2       iBE_ONLYME  RT @heroichollywood: We NEED Shuri &amp; Peter...\n",
       "3  hiroshi00279644  RT @heroichollywood: Retweet if you’re hyped f...\n",
       "4  YPinedodelarosa  RT @marvel_shots: ‘We Know What You Whisper’ \\..."
      ]
     },
     "execution_count": 7,
     "metadata": {},
     "output_type": "execute_result"
    }
   ],
   "source": [
    "df.head()"
   ]
  },
  {
   "cell_type": "code",
   "execution_count": 8,
   "metadata": {},
   "outputs": [],
   "source": [
    "def count_letter(text):\n",
    "    letter = len(text)\n",
    "    return letter"
   ]
  },
  {
   "cell_type": "code",
   "execution_count": 9,
   "metadata": {},
   "outputs": [],
   "source": [
    "df['letters_preprocess'] = df['tweets'].apply(count_letter)"
   ]
  },
  {
   "cell_type": "code",
   "execution_count": 10,
   "metadata": {},
   "outputs": [
    {
     "data": {
      "text/html": [
       "<div>\n",
       "<style scoped>\n",
       "    .dataframe tbody tr th:only-of-type {\n",
       "        vertical-align: middle;\n",
       "    }\n",
       "\n",
       "    .dataframe tbody tr th {\n",
       "        vertical-align: top;\n",
       "    }\n",
       "\n",
       "    .dataframe thead th {\n",
       "        text-align: right;\n",
       "    }\n",
       "</style>\n",
       "<table border=\"1\" class=\"dataframe\">\n",
       "  <thead>\n",
       "    <tr style=\"text-align: right;\">\n",
       "      <th></th>\n",
       "      <th>User_name</th>\n",
       "      <th>tweets</th>\n",
       "      <th>letters_preprocess</th>\n",
       "    </tr>\n",
       "  </thead>\n",
       "  <tbody>\n",
       "    <tr>\n",
       "      <th>0</th>\n",
       "      <td>Drewboy14</td>\n",
       "      <td>RT @esquire: #BlackPanther made him an overnig...</td>\n",
       "      <td>139</td>\n",
       "    </tr>\n",
       "    <tr>\n",
       "      <th>1</th>\n",
       "      <td>Demarcus_Red</td>\n",
       "      <td>RT @getFANDOM: #WakandaForever blew everything...</td>\n",
       "      <td>105</td>\n",
       "    </tr>\n",
       "    <tr>\n",
       "      <th>2</th>\n",
       "      <td>iBE_ONLYME</td>\n",
       "      <td>RT @heroichollywood: We NEED Shuri &amp;amp; Peter...</td>\n",
       "      <td>100</td>\n",
       "    </tr>\n",
       "    <tr>\n",
       "      <th>3</th>\n",
       "      <td>hiroshi00279644</td>\n",
       "      <td>RT @heroichollywood: Retweet if you’re hyped f...</td>\n",
       "      <td>100</td>\n",
       "    </tr>\n",
       "    <tr>\n",
       "      <th>4</th>\n",
       "      <td>YPinedodelarosa</td>\n",
       "      <td>RT @marvel_shots: ‘We Know What You Whisper’ \\...</td>\n",
       "      <td>85</td>\n",
       "    </tr>\n",
       "  </tbody>\n",
       "</table>\n",
       "</div>"
      ],
      "text/plain": [
       "         User_name                                             tweets  \\\n",
       "0        Drewboy14  RT @esquire: #BlackPanther made him an overnig...   \n",
       "1     Demarcus_Red  RT @getFANDOM: #WakandaForever blew everything...   \n",
       "2       iBE_ONLYME  RT @heroichollywood: We NEED Shuri &amp; Peter...   \n",
       "3  hiroshi00279644  RT @heroichollywood: Retweet if you’re hyped f...   \n",
       "4  YPinedodelarosa  RT @marvel_shots: ‘We Know What You Whisper’ \\...   \n",
       "\n",
       "   letters_preprocess  \n",
       "0                 139  \n",
       "1                 105  \n",
       "2                 100  \n",
       "3                 100  \n",
       "4                  85  "
      ]
     },
     "execution_count": 10,
     "metadata": {},
     "output_type": "execute_result"
    }
   ],
   "source": [
    "df.head()"
   ]
  },
  {
   "cell_type": "code",
   "execution_count": 11,
   "metadata": {},
   "outputs": [],
   "source": [
    "def getPolarity(text):\n",
    "    return TextBlob(text).sentiment.polarity\n",
    "\n",
    "def getAnalysis(score):\n",
    "    if score > 0:\n",
    "        return 1\n",
    "    elif score == 0:\n",
    "        return 4\n",
    "    else:\n",
    "        return 0"
   ]
  },
  {
   "cell_type": "code",
   "execution_count": 12,
   "metadata": {},
   "outputs": [],
   "source": [
    "df['Polarity'] = df['tweets'].apply(getPolarity)"
   ]
  },
  {
   "cell_type": "code",
   "execution_count": 13,
   "metadata": {},
   "outputs": [
    {
     "data": {
      "text/html": [
       "<div>\n",
       "<style scoped>\n",
       "    .dataframe tbody tr th:only-of-type {\n",
       "        vertical-align: middle;\n",
       "    }\n",
       "\n",
       "    .dataframe tbody tr th {\n",
       "        vertical-align: top;\n",
       "    }\n",
       "\n",
       "    .dataframe thead th {\n",
       "        text-align: right;\n",
       "    }\n",
       "</style>\n",
       "<table border=\"1\" class=\"dataframe\">\n",
       "  <thead>\n",
       "    <tr style=\"text-align: right;\">\n",
       "      <th></th>\n",
       "      <th>User_name</th>\n",
       "      <th>tweets</th>\n",
       "      <th>letters_preprocess</th>\n",
       "      <th>Polarity</th>\n",
       "    </tr>\n",
       "  </thead>\n",
       "  <tbody>\n",
       "    <tr>\n",
       "      <th>0</th>\n",
       "      <td>Drewboy14</td>\n",
       "      <td>RT @esquire: #BlackPanther made him an overnig...</td>\n",
       "      <td>139</td>\n",
       "      <td>0.03125</td>\n",
       "    </tr>\n",
       "    <tr>\n",
       "      <th>1</th>\n",
       "      <td>Demarcus_Red</td>\n",
       "      <td>RT @getFANDOM: #WakandaForever blew everything...</td>\n",
       "      <td>105</td>\n",
       "      <td>0.00000</td>\n",
       "    </tr>\n",
       "    <tr>\n",
       "      <th>2</th>\n",
       "      <td>iBE_ONLYME</td>\n",
       "      <td>RT @heroichollywood: We NEED Shuri &amp;amp; Peter...</td>\n",
       "      <td>100</td>\n",
       "      <td>0.00000</td>\n",
       "    </tr>\n",
       "    <tr>\n",
       "      <th>3</th>\n",
       "      <td>hiroshi00279644</td>\n",
       "      <td>RT @heroichollywood: Retweet if you’re hyped f...</td>\n",
       "      <td>100</td>\n",
       "      <td>0.00000</td>\n",
       "    </tr>\n",
       "    <tr>\n",
       "      <th>4</th>\n",
       "      <td>YPinedodelarosa</td>\n",
       "      <td>RT @marvel_shots: ‘We Know What You Whisper’ \\...</td>\n",
       "      <td>85</td>\n",
       "      <td>0.00000</td>\n",
       "    </tr>\n",
       "  </tbody>\n",
       "</table>\n",
       "</div>"
      ],
      "text/plain": [
       "         User_name                                             tweets  \\\n",
       "0        Drewboy14  RT @esquire: #BlackPanther made him an overnig...   \n",
       "1     Demarcus_Red  RT @getFANDOM: #WakandaForever blew everything...   \n",
       "2       iBE_ONLYME  RT @heroichollywood: We NEED Shuri &amp; Peter...   \n",
       "3  hiroshi00279644  RT @heroichollywood: Retweet if you’re hyped f...   \n",
       "4  YPinedodelarosa  RT @marvel_shots: ‘We Know What You Whisper’ \\...   \n",
       "\n",
       "   letters_preprocess  Polarity  \n",
       "0                 139   0.03125  \n",
       "1                 105   0.00000  \n",
       "2                 100   0.00000  \n",
       "3                 100   0.00000  \n",
       "4                  85   0.00000  "
      ]
     },
     "execution_count": 13,
     "metadata": {},
     "output_type": "execute_result"
    }
   ],
   "source": [
    "df.head()"
   ]
  },
  {
   "cell_type": "code",
   "execution_count": 14,
   "metadata": {},
   "outputs": [
    {
     "data": {
      "text/plain": [
       "4    4739\n",
       "1    3596\n",
       "0    1665\n",
       "Name: Label, dtype: int64"
      ]
     },
     "execution_count": 14,
     "metadata": {},
     "output_type": "execute_result"
    }
   ],
   "source": [
    "df['Label'] = df['Polarity'].apply(getAnalysis)\n",
    "df['Label'].value_counts()"
   ]
  },
  {
   "cell_type": "code",
   "execution_count": 15,
   "metadata": {},
   "outputs": [
    {
     "data": {
      "text/plain": [
       "(10000, 5)"
      ]
     },
     "execution_count": 15,
     "metadata": {},
     "output_type": "execute_result"
    }
   ],
   "source": [
    "df.shape"
   ]
  },
  {
   "cell_type": "code",
   "execution_count": 16,
   "metadata": {},
   "outputs": [
    {
     "data": {
      "text/html": [
       "<div>\n",
       "<style scoped>\n",
       "    .dataframe tbody tr th:only-of-type {\n",
       "        vertical-align: middle;\n",
       "    }\n",
       "\n",
       "    .dataframe tbody tr th {\n",
       "        vertical-align: top;\n",
       "    }\n",
       "\n",
       "    .dataframe thead th {\n",
       "        text-align: right;\n",
       "    }\n",
       "</style>\n",
       "<table border=\"1\" class=\"dataframe\">\n",
       "  <thead>\n",
       "    <tr style=\"text-align: right;\">\n",
       "      <th></th>\n",
       "      <th>User_name</th>\n",
       "      <th>tweets</th>\n",
       "      <th>letters_preprocess</th>\n",
       "      <th>Polarity</th>\n",
       "      <th>Label</th>\n",
       "    </tr>\n",
       "  </thead>\n",
       "  <tbody>\n",
       "    <tr>\n",
       "      <th>0</th>\n",
       "      <td>Drewboy14</td>\n",
       "      <td>RT @esquire: #BlackPanther made him an overnig...</td>\n",
       "      <td>139</td>\n",
       "      <td>0.03125</td>\n",
       "      <td>1</td>\n",
       "    </tr>\n",
       "    <tr>\n",
       "      <th>1</th>\n",
       "      <td>Demarcus_Red</td>\n",
       "      <td>RT @getFANDOM: #WakandaForever blew everything...</td>\n",
       "      <td>105</td>\n",
       "      <td>0.00000</td>\n",
       "      <td>4</td>\n",
       "    </tr>\n",
       "    <tr>\n",
       "      <th>2</th>\n",
       "      <td>iBE_ONLYME</td>\n",
       "      <td>RT @heroichollywood: We NEED Shuri &amp;amp; Peter...</td>\n",
       "      <td>100</td>\n",
       "      <td>0.00000</td>\n",
       "      <td>4</td>\n",
       "    </tr>\n",
       "    <tr>\n",
       "      <th>3</th>\n",
       "      <td>hiroshi00279644</td>\n",
       "      <td>RT @heroichollywood: Retweet if you’re hyped f...</td>\n",
       "      <td>100</td>\n",
       "      <td>0.00000</td>\n",
       "      <td>4</td>\n",
       "    </tr>\n",
       "    <tr>\n",
       "      <th>4</th>\n",
       "      <td>YPinedodelarosa</td>\n",
       "      <td>RT @marvel_shots: ‘We Know What You Whisper’ \\...</td>\n",
       "      <td>85</td>\n",
       "      <td>0.00000</td>\n",
       "      <td>4</td>\n",
       "    </tr>\n",
       "  </tbody>\n",
       "</table>\n",
       "</div>"
      ],
      "text/plain": [
       "         User_name                                             tweets  \\\n",
       "0        Drewboy14  RT @esquire: #BlackPanther made him an overnig...   \n",
       "1     Demarcus_Red  RT @getFANDOM: #WakandaForever blew everything...   \n",
       "2       iBE_ONLYME  RT @heroichollywood: We NEED Shuri &amp; Peter...   \n",
       "3  hiroshi00279644  RT @heroichollywood: Retweet if you’re hyped f...   \n",
       "4  YPinedodelarosa  RT @marvel_shots: ‘We Know What You Whisper’ \\...   \n",
       "\n",
       "   letters_preprocess  Polarity  Label  \n",
       "0                 139   0.03125      1  \n",
       "1                 105   0.00000      4  \n",
       "2                 100   0.00000      4  \n",
       "3                 100   0.00000      4  \n",
       "4                  85   0.00000      4  "
      ]
     },
     "execution_count": 16,
     "metadata": {},
     "output_type": "execute_result"
    }
   ],
   "source": [
    "df.head()"
   ]
  },
  {
   "cell_type": "code",
   "execution_count": 17,
   "metadata": {},
   "outputs": [],
   "source": [
    "df.to_csv(r'tweets.csv')"
   ]
  },
  {
   "cell_type": "code",
   "execution_count": null,
   "metadata": {},
   "outputs": [],
   "source": []
  }
 ],
 "metadata": {
  "kernelspec": {
   "display_name": "Python 3.10.6 ('SentimentAnalysis')",
   "language": "python",
   "name": "python3"
  },
  "language_info": {
   "codemirror_mode": {
    "name": "ipython",
    "version": 3
   },
   "file_extension": ".py",
   "mimetype": "text/x-python",
   "name": "python",
   "nbconvert_exporter": "python",
   "pygments_lexer": "ipython3",
   "version": "3.10.6"
  },
  "orig_nbformat": 4,
  "vscode": {
   "interpreter": {
    "hash": "24e9768d611fc246120c41f7b551bb3154ed9f1414c8efc879092c8d24419cb4"
   }
  }
 },
 "nbformat": 4,
 "nbformat_minor": 2
}
